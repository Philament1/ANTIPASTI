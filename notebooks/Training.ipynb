{
 "cells": [
  {
   "cell_type": "markdown",
   "metadata": {},
   "source": [
    "# Training with AF3 structures"
   ]
  },
  {
   "cell_type": "markdown",
   "metadata": {},
   "source": [
    "## Pre-preprocessing"
   ]
  },
  {
   "cell_type": "markdown",
   "metadata": {},
   "source": [
    "The new AF3 .pdb files do not have an opening 'MODEL 1' line, will this affect the generate_fv_pdb() function"
   ]
  },
  {
   "cell_type": "markdown",
   "metadata": {},
   "source": [
    "### Loading database"
   ]
  },
  {
   "cell_type": "code",
   "execution_count": 3,
   "metadata": {},
   "outputs": [],
   "source": [
    "# Test sequence\n",
    "\n",
    "light_sequence = \"DIKMTQSPSSMYTSLGERVTITCKASQDINSFLTWFLQKPGKSPKTLIYRANRLMIGVPSRFSGSGSGQTYSLTISSLEYEDMGIYYCLQYDDFPLTFGAGTKLDLKRADAAPTVSIFPPSSEQLTSGGASVVCFLNNFYPKEINVKWKIDGSERQNGVLDSWTEQDSKDSTYSMSSTLTLTKDEYERHNSYTCEATHKTSTSPIVKSFNRNEC\"\n",
    "heavy_sequence = \"QDQLQQSGAELVRPGASVKLSCKALGYIFTDYEIHWVKQTPVHGLEWIGGIHPGSSGTAYNQKFKGKATLTADKSSTTAFMELSSLTSEDSAVYYCTRKDYWGQGTLVTVSAAKTTAPSVYPLVPVCGGTTGSSVTLGCLVKGYFPEPVTLTWNSGSLSSGVHTFPALLQSGLYTLSSSVTVTSNTWPSQTITCNVAHPASSTKVDKKIEPRV\"\n",
    "antigen_sequence = \"DATPEDLGARL\"\n",
    "\n",
    "sequences = [heavy_sequence + \":\" + light_sequence + \":\" + antigen_sequence]# load the sequences, making sure you just have heavy_chain:light_chain\n",
    "pdb_ids = [\"1hh6\"]"
   ]
  },
  {
   "cell_type": "markdown",
   "metadata": {},
   "source": [
    "### Producing summary dataframe"
   ]
  },
  {
   "cell_type": "code",
   "execution_count": 4,
   "metadata": {},
   "outputs": [],
   "source": [
    "# save as .tsv "
   ]
  },
  {
   "cell_type": "markdown",
   "metadata": {},
   "source": [
    "### Getting lists of residues and producing AF3 inputs"
   ]
  },
  {
   "cell_type": "code",
   "execution_count": 2,
   "metadata": {},
   "outputs": [],
   "source": [
    "from anarci import run_anarci\n",
    "import numpy as np\n",
    "import os"
   ]
  },
  {
   "cell_type": "code",
   "execution_count": 3,
   "metadata": {},
   "outputs": [],
   "source": [
    "residues_dict_anarci = {}\n",
    " \n",
    "for i, seq in enumerate(sequences):\n",
    "    split_seq = seq.split(':')\n",
    "    if len(split_seq) == 2:\n",
    "        heavy_seq, light_seq = split_seq\n",
    "        ag_seq = None\n",
    "    elif(len(split_seq)) == 3:\n",
    "        heavy_seq, light_seq, ag_seq = split_seq\n",
    "    else:\n",
    "        raise ValueError(\"Unknown sequence\")\n",
    " \n",
    "    heavy_results = run_anarci([('heavy', heavy_seq)], scheme='chothia')\n",
    "    if not heavy_results[2][0]:\n",
    "        print(f'Skipping heavy chain {pdb_ids[i]}')\n",
    "        continue\n",
    "\n",
    "    heavy_residues = []\n",
    "    for pos, residue in heavy_results[1][0][0][0]:\n",
    "        if residue != '-':\n",
    "            full_res = f'{residue}A{str(pos[0]).rjust(3)}'\n",
    "            if pos[1].strip():\n",
    "                full_res += pos[1].strip()\n",
    "            else:\n",
    "                full_res += ' '\n",
    "            heavy_residues.append(full_res)\n",
    "\n",
    "    light_results = run_anarci([('light', light_seq)], scheme='chothia')\n",
    "    if not light_results[2][0]:\n",
    "        print(f'Skipping light chain {pdb_ids[i]}')\n",
    "        continue    \n",
    "    light_residues = []\n",
    "    for pos, residue in light_results[1][0][0][0]:\n",
    "        if residue != '-':\n",
    "            full_res = f'{residue}B{str(pos[0]).rjust(3)}'\n",
    "            if pos[1].strip():\n",
    "                full_res += pos[1].strip()\n",
    "            else:\n",
    "                full_res += ' '\n",
    "            light_residues.append(full_res)\n",
    "\n",
    "    ag_residues = []\n",
    "    for idx, residue in enumerate(ag_seq):\n",
    "        pos = idx + 1\n",
    "        full_res = f'{residue}C{str(pos).rjust(3)} '\n",
    "        ag_residues.append(full_res)\n",
    "    \n",
    "    list_of_residues = ['START-Ab'] + heavy_residues + light_residues + ['END-Ab'] + ag_residues\n",
    "    residues_dict_anarci[pdb_ids[i]]=list_of_residues"
   ]
  },
  {
   "cell_type": "code",
   "execution_count": 4,
   "metadata": {},
   "outputs": [],
   "source": [
    "# Saving ANARCI residues\n",
    "\n",
    "residues_path = '../data/lists_of_residues'\n",
    "\n",
    "for entry in pdb_ids:\n",
    "    save_filename = f'{entry}.npy'\n",
    "    np.save(os.path.join(residues_path,save_filename), residues_dict_anarci[entry])"
   ]
  },
  {
   "cell_type": "markdown",
   "metadata": {},
   "source": [
    "#### Comparing to old data"
   ]
  },
  {
   "cell_type": "code",
   "execution_count": 60,
   "metadata": {},
   "outputs": [],
   "source": [
    "import numpy as np\n",
    "import os\n",
    "\n",
    "residues_path = '../OLD/data/lists_of_residues/'\n",
    "residues_dict_old = {}\n",
    "\n",
    "for filename in os.listdir(residues_path):\n",
    "    file_path = os.path.join(residues_path, filename)\n",
    "    residues = np.load(file_path)\n",
    "    filename_without_ext = os.path.splitext(filename)[0]\n",
    "    residues_dict_old[filename_without_ext] = residues\n",
    "\n",
    "# list_of_residues = list(residues_dict_old[pdb_ids[0]])[1:]\n",
    "\n",
    "# chain_pos = 0\n",
    "# if 'END-Ab' in list_of_residues:\n",
    "#     list_of_residues = list_of_residues[:list_of_residues.index('END-Ab')]\n",
    "#     chain_pos = 1\n",
    "# else:\n",
    "#     list_of_residues = residues_dict_old[pdb_ids[0]][:-1]\n",
    "\n",
    "# h_chain = list_of_residues[0][chain_pos]\n",
    "# l_chain = list_of_residues[-1][chain_pos]\n",
    "\n",
    "# print(len([idx for idx in list_of_residues if idx[chain_pos] == h_chain]))\n",
    "# if h_chain != l_chain:\n",
    "#     print(len([idx for idx in list_of_residues if idx[chain_pos] == l_chain]))\n",
    "# else:\n",
    "#     print(0)\n",
    "\n",
    "\n"
   ]
  },
  {
   "cell_type": "code",
   "execution_count": 61,
   "metadata": {},
   "outputs": [],
   "source": [
    "# print(residues_dict[pdb_ids[0]])"
   ]
  },
  {
   "cell_type": "code",
   "execution_count": 78,
   "metadata": {},
   "outputs": [],
   "source": [
    "# selected_entries = np.load(\"../OLD/data/chain_lengths/selected_entries.npy\")\n",
    "# heavy_lengths = np.load(\"../OLD/data/chain_lengths/heavy_lengths.npy\")\n",
    "# light_lengths = np.load(\"../OLD/data/chain_lengths/light_lengths.npy\")\n",
    "\n",
    "\n",
    "# pdb_idx = np.where(selected_entries == pdb_ids[0])[0][0]\n",
    "# print(heavy_lengths[pdb_idx], light_lengths[pdb_idx])"
   ]
  },
  {
   "cell_type": "markdown",
   "metadata": {},
   "source": [
    "### Converting AF3 outputs to ANTIPASTI inputs"
   ]
  },
  {
   "cell_type": "code",
   "execution_count": 5,
   "metadata": {},
   "outputs": [],
   "source": [
    "import pymol2\n",
    "import os"
   ]
  },
  {
   "cell_type": "code",
   "execution_count": 6,
   "metadata": {},
   "outputs": [],
   "source": [
    "# assign directory\n",
    "cif_dir = '../af3/af_output/'\n",
    "struc_dir = '../data/af3/structures/'\n",
    "\n",
    "# iterate over files in\n",
    "# that directory\n",
    "for protein_name in os.listdir(cif_dir):\n",
    "    cifname = os.path.join(cif_dir, protein_name, protein_name+'_model.cif')\n",
    "    if os.path.isfile(cifname):\n",
    "        with pymol2.PyMOL() as pymol:\n",
    "            pymol.cmd.load(cifname,'myprotein')\n",
    "            pymol.cmd.save(os.path.join(struc_dir, protein_name+'_af3.pdb'), selection='myprotein')"
   ]
  },
  {
   "cell_type": "markdown",
   "metadata": {},
   "source": [
    "## Preprocessing"
   ]
  },
  {
   "cell_type": "code",
   "execution_count": 1,
   "metadata": {},
   "outputs": [],
   "source": [
    "from antipasti.preprocessing.preprocessing import Preprocessing"
   ]
  },
  {
   "cell_type": "code",
   "execution_count": 2,
   "metadata": {},
   "outputs": [
    {
     "name": "stderr",
     "output_type": "stream",
     "text": [
      "Warning message:\n",
      "In read.pdb(args[1]) : duplicated element numbers ('eleno') detected\n"
     ]
    },
    {
     "name": "stdout",
     "output_type": "stream",
     "text": [
      "Map 1 out of 1 processed.\n"
     ]
    }
   ],
   "source": [
    "data_path = '../data/'\n",
    "structures_path = '../data/structures/'\n",
    "df_file = 'sabdab_1hh6.tsv'\n",
    "\n",
    "modes = 'all' # Number of normal modes to consider. Relevant if renew_maps is True\n",
    "renew_maps = True # True to compute again all the normal mode correlation maps\n",
    "renew_residues = True # True to retrieve again all the chain lengths \n",
    "\n",
    "# pathological = ['5omm', '5i5k', '1uwx', '1mj7', '1qfw', '1qyg', '4ffz', '3ifl', '3lrh', '3pp4', '3ru8', '3t0w', '3t0x', '4fqr', '4gxu', '4jfx', '4k3h', '4jfz', '4jg0', '4jg1', '4jn2', '4o4y', '4qxt', '4r3s', '4w6y', '4w6y', '5ies', '5ivn', '5j57', '5kvd', '5kzp', '5mes', '5nmv', '5sy8', '5t29', '5t5b', '5vag', '3etb', '3gkz', '3uze', '3uzq', '4f9l', '4gqp', '4r2g', '5c6t', '3fku', '1oau', '1oay']\n",
    "# scfv = ['4gqp', '3etb', '3gkz', '3uze', '3uzq', '3gm0', '4f9l', '6ejg', '6ejm', '1h8s', '5dfw', '6cbp', '4f9p', '5kov', '1dzb', '5j74', '5aaw', '3uzv', '5aam', '3ux9', '5a2j', '5a2k', '5a2i', '3fku', '5yy4', '3uyp', '5jyl', '1y0l', '1p4b', '3kdm', '4lar', '4ffy', '2ybr', '1mfa', '5xj3', '5xj4', '4kv5', '5vyf'] \n",
    "# pathological += scfv\n",
    "\n",
    "preprocessed_data = Preprocessing(data_path=data_path, structures_path=structures_path, df=df_file, modes=modes, renew_maps=renew_maps, renew_residues=renew_residues, alphafold=True)"
   ]
  },
  {
   "cell_type": "code",
   "execution_count": null,
   "metadata": {},
   "outputs": [],
   "source": []
  }
 ],
 "metadata": {
  "kernelspec": {
   "display_name": "antipasti-env",
   "language": "python",
   "name": "python3"
  },
  "language_info": {
   "codemirror_mode": {
    "name": "ipython",
    "version": 3
   },
   "file_extension": ".py",
   "mimetype": "text/x-python",
   "name": "python",
   "nbconvert_exporter": "python",
   "pygments_lexer": "ipython3",
   "version": "3.12.7"
  }
 },
 "nbformat": 4,
 "nbformat_minor": 2
}
