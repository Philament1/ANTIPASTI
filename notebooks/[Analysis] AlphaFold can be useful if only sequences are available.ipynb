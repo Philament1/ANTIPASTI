{
 "cells": [
  {
   "cell_type": "markdown",
   "id": "13f530fa",
   "metadata": {},
   "source": [
    "By [Kevin Michalewicz](https://kevinmichalewicz.com) on May 2023\n",
    "\n",
    "This notebook analyses the accuracy of affinity predictions when using structures folded by AlphaFold."
   ]
  },
  {
   "cell_type": "code",
   "execution_count": 1,
   "id": "3c24c602",
   "metadata": {},
   "outputs": [],
   "source": [
    "# General imports\n",
    "import cv2\n",
    "import glob\n",
    "import itertools\n",
    "import os\n",
    "import pandas as pd\n",
    "import numpy as np\n",
    "import subprocess\n",
    "import torch\n",
    "\n",
    "from copy import deepcopy\n",
    "from matplotlib.colors import CenteredNorm\n",
    "\n",
    "# for reading and displaying images\n",
    "import matplotlib.pyplot as plt\n",
    "%matplotlib inline\n",
    "\n",
    "# ANTIPASTI\n",
    "from antipasti.preprocessing.preprocessing import Preprocessing\n",
    "from antipasti.utils.torch_utils import load_checkpoint"
   ]
  },
  {
   "cell_type": "markdown",
   "id": "dc4e1b5c",
   "metadata": {},
   "source": [
    "# Loading a test sample"
   ]
  },
  {
   "cell_type": "code",
   "execution_count": null,
   "id": "4862b206",
   "metadata": {},
   "outputs": [],
   "source": [
    "modes = 30\n",
    "n_filters = 3\n",
    "filter_size = 5\n",
    "pooling_size = 2\n",
    "n_max_epochs = 159\n",
    "\n",
    "mode = 'fully-extended' # Choose between 'fully-extended' and 'fully-cropped'\n",
    "pathological = ['5omm', '1mj7', '1qfw', '1qyg', '3ifl', '3lrh', '3pp4', '3ru8', '3t0w', '3t0x', '4fqr', '4gxu', '4jfx', '4k3h', '4jfz', '4jg0', '4jg1', '4jn2', '4o4y', '4qxt', '4r3s', '4w6y', '4w6y', '5ies', '5ivn', '5j57', '5kvd', '5kzp', '5mes', '5nmv', '5sy8', '5t29', '5t5b', '5vag', '3etb', '3gkz', '3uze', '3uzq', '4f9l', '4gqp', '4r2g', '5c6t']\n",
    "stage = 'predicting'\n",
    "regions = 'paired_hl'\n",
    "\n",
    "test_data_path = '../notebooks/test_data/'\n",
    "test_dccm_map_path = 'dccm_map/'\n",
    "test_residues_path = 'list_of_residues/'\n",
    "test_structure_path = 'structure/'\n",
    "test_pdb_id = '5vpg_af' \n",
    "alphafold = True\n",
    "\n",
    "preprocessed_data = Preprocessing(modes=modes, pathological=pathological, mode=mode, stage=stage, regions=regions, test_data_path=test_data_path, test_dccm_map_path=test_dccm_map_path, test_residues_path=test_residues_path, test_structure_path=test_structure_path, test_pdb_id=test_pdb_id, alphafold=alphafold)\n",
    "input_shape = preprocessed_data.test_x.shape[-1]"
   ]
  },
  {
   "cell_type": "code",
   "execution_count": null,
   "id": "681d8819",
   "metadata": {},
   "outputs": [],
   "source": [
    "title_size = 20\n",
    "font_size = 14\n",
    "\n",
    "fig = plt.figure(figsize=(10, 8))\n",
    "plt.imshow(preprocessed_data.test_x, origin='lower', cmap='seismic', norm=CenteredNorm())\n",
    "plt.title('AlphaFold test sample', size=title_size)\n",
    "plt.colorbar()\n",
    "plt.show()"
   ]
  },
  {
   "cell_type": "markdown",
   "id": "5c51356a",
   "metadata": {},
   "source": [
    "# Loading an ANTIPASTI checkpoint"
   ]
  },
  {
   "cell_type": "code",
   "execution_count": null,
   "id": "023de2d6",
   "metadata": {},
   "outputs": [],
   "source": [
    "path = '../checkpoints/model_' + regions + '_epochs_' + str(n_max_epochs) + '_modes_' + str(modes) + '_pool_' + str(pooling_size) + '_filters_' + str(n_filters) + '_size_' + str(filter_size) + '.pt'\n",
    "model = load_checkpoint(path, input_shape)[0]\n",
    "model.eval()"
   ]
  },
  {
   "cell_type": "markdown",
   "id": "da5f97aa",
   "metadata": {},
   "source": [
    "# Predicting the binding affinity"
   ]
  },
  {
   "cell_type": "code",
   "execution_count": null,
   "id": "2f7ee6f0",
   "metadata": {},
   "outputs": [],
   "source": [
    "# We convert to the torch format\n",
    "test_sample = torch.from_numpy(preprocessed_data.test_x.reshape(1, 1, input_shape, input_shape).astype(np.float32))\n",
    "\n",
    "# This value should be in the -7 to -4 interval\n",
    "print('The output value is ' + str(model(test_sample)[0].detach().numpy()[0,0]))\n",
    "print('So the binding affinity is ' + str(10**model(test_sample)[0].detach().numpy()[0,0]))"
   ]
  },
  {
   "cell_type": "code",
   "execution_count": 6,
   "id": "2ed0be94",
   "metadata": {},
   "outputs": [],
   "source": [
    "# Good: 2nz9, 5dd0, 5vpg\n",
    "# Could be better: 6a0z"
   ]
  }
 ],
 "metadata": {
  "kernelspec": {
   "display_name": "Python 3 (ipykernel)",
   "language": "python",
   "name": "python3"
  },
  "language_info": {
   "codemirror_mode": {
    "name": "ipython",
    "version": 3
   },
   "file_extension": ".py",
   "mimetype": "text/x-python",
   "name": "python",
   "nbconvert_exporter": "python",
   "pygments_lexer": "ipython3",
   "version": "3.10.11"
  }
 },
 "nbformat": 4,
 "nbformat_minor": 5
}
