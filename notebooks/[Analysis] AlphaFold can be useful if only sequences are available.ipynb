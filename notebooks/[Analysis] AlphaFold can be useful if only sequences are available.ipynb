{
 "cells": [
  {
   "cell_type": "markdown",
   "id": "13f530fa",
   "metadata": {},
   "source": [
    "By [Kevin Michalewicz](https://kevinmichalewicz.com) on May 2023\n",
    "\n",
    "This notebook analyses the accuracy of affinity predictions when using structures folded by AlphaFold."
   ]
  },
  {
   "cell_type": "code",
   "execution_count": 1,
   "id": "3c24c602",
   "metadata": {},
   "outputs": [],
   "source": [
    "# General imports\n",
    "import cv2\n",
    "import glob\n",
    "import itertools\n",
    "import matplotlib.pyplot as plt\n",
    "import numpy as np\n",
    "import os\n",
    "import pandas as pd\n",
    "import subprocess\n",
    "import torch\n",
    "\n",
    "from copy import deepcopy\n",
    "from matplotlib.colors import CenteredNorm\n",
    "\n",
    "# ANTIPASTI\n",
    "from antipasti.preprocessing.preprocessing import Preprocessing\n",
    "from antipasti.utils.explaining_utils import plot_map_with_regions\n",
    "from antipasti.utils.torch_utils import load_checkpoint"
   ]
  },
  {
   "cell_type": "markdown",
   "id": "dc4e1b5c",
   "metadata": {},
   "source": [
    "# Loading all the test samples (original and predicted with AlphaFold)"
   ]
  },
  {
   "cell_type": "code",
   "execution_count": 3,
   "id": "4862b206",
   "metadata": {
    "scrolled": false
   },
   "outputs": [
    {
     "name": "stdout",
     "output_type": "stream",
     "text": [
      "2nz9\n",
      "5vpg\n",
      "6a0z\n",
      "4ffz\n",
      "5dd0\n"
     ]
    },
    {
     "name": "stderr",
     "output_type": "stream",
     "text": [
      "Erreur dans nma.pdb(pdb) : nma: insufficient number of atoms\n",
      "Appels : suppressMessages -> withCallingHandlers\n",
      "Exécution arrêtée\n"
     ]
    },
    {
     "ename": "IndexError",
     "evalue": "index 166 is out of bounds for axis 1 with size 166",
     "output_type": "error",
     "traceback": [
      "\u001b[0;31m---------------------------------------------------------------------------\u001b[0m",
      "\u001b[0;31mIndexError\u001b[0m                                Traceback (most recent call last)",
      "Cell \u001b[0;32mIn[3], line 28\u001b[0m\n\u001b[1;32m     25\u001b[0m     preprocessed_data \u001b[38;5;241m=\u001b[39m Preprocessing(modes\u001b[38;5;241m=\u001b[39mmodes, pathological\u001b[38;5;241m=\u001b[39mpathological, mode\u001b[38;5;241m=\u001b[39mmode, stage\u001b[38;5;241m=\u001b[39mstage, regions\u001b[38;5;241m=\u001b[39mregions, test_data_path\u001b[38;5;241m=\u001b[39mtest_data_path, test_dccm_map_path\u001b[38;5;241m=\u001b[39mtest_dccm_map_path, test_residues_path\u001b[38;5;241m=\u001b[39mtest_residues_path, test_structure_path\u001b[38;5;241m=\u001b[39mtest_structure_path, test_pdb_id\u001b[38;5;241m=\u001b[39mtest_pdb, alphafold\u001b[38;5;241m=\u001b[39m\u001b[38;5;28;01mFalse\u001b[39;00m)\n\u001b[1;32m     26\u001b[0m     original_structures\u001b[38;5;241m.\u001b[39mappend(preprocessed_data\u001b[38;5;241m.\u001b[39mtest_x)\n\u001b[0;32m---> 28\u001b[0m     preprocessed_data \u001b[38;5;241m=\u001b[39m Preprocessing(modes\u001b[38;5;241m=\u001b[39mmodes, pathological\u001b[38;5;241m=\u001b[39mpathological, mode\u001b[38;5;241m=\u001b[39mmode, stage\u001b[38;5;241m=\u001b[39mstage, regions\u001b[38;5;241m=\u001b[39mregions, test_data_path\u001b[38;5;241m=\u001b[39mtest_data_path, test_dccm_map_path\u001b[38;5;241m=\u001b[39mtest_dccm_map_path, test_residues_path\u001b[38;5;241m=\u001b[39mtest_residues_path, test_structure_path\u001b[38;5;241m=\u001b[39mtest_structure_path, test_pdb_id\u001b[38;5;241m=\u001b[39mtest_pdb\u001b[38;5;241m+\u001b[39m\u001b[38;5;124m'\u001b[39m\u001b[38;5;124m_af\u001b[39m\u001b[38;5;124m'\u001b[39m, alphafold\u001b[38;5;241m=\u001b[39m\u001b[38;5;28;01mTrue\u001b[39;00m, h_offset\u001b[38;5;241m=\u001b[39mh_offset, l_offset\u001b[38;5;241m=\u001b[39ml_offset)\n\u001b[1;32m     29\u001b[0m     af_pred_structures\u001b[38;5;241m.\u001b[39mappend(preprocessed_data\u001b[38;5;241m.\u001b[39mtest_x)\n\u001b[1;32m     31\u001b[0m input_shape \u001b[38;5;241m=\u001b[39m preprocessed_data\u001b[38;5;241m.\u001b[39mtest_x\u001b[38;5;241m.\u001b[39mshape[\u001b[38;5;241m-\u001b[39m\u001b[38;5;241m1\u001b[39m]\n",
      "File \u001b[0;32m~/Documents/PhD/ANTIPASTI/antipasti/preprocessing/preprocessing.py:132\u001b[0m, in \u001b[0;36mPreprocessing.__init__\u001b[0;34m(self, data_path, scripts_path, structures_path, df, modes, chain_lengths_path, dccm_map_path, residues_path, file_type_input, selection, regions, pathological, renew_maps, renew_residues, mode, stage, test_data_path, test_dccm_map_path, test_residues_path, test_structure_path, test_pdb_id, alphafold, h_offset, l_offset)\u001b[0m\n\u001b[1;32m    130\u001b[0m \u001b[38;5;28mself\u001b[39m\u001b[38;5;241m.\u001b[39mtest_structure_path \u001b[38;5;241m=\u001b[39m \u001b[38;5;28mself\u001b[39m\u001b[38;5;241m.\u001b[39mtest_data_path \u001b[38;5;241m+\u001b[39m test_structure_path\n\u001b[1;32m    131\u001b[0m \u001b[38;5;28mself\u001b[39m\u001b[38;5;241m.\u001b[39mtest_pdb_id \u001b[38;5;241m=\u001b[39m test_pdb_id\n\u001b[0;32m--> 132\u001b[0m \u001b[38;5;28mself\u001b[39m\u001b[38;5;241m.\u001b[39mtest_x \u001b[38;5;241m=\u001b[39m \u001b[38;5;28mself\u001b[39m\u001b[38;5;241m.\u001b[39mload_test_image()\n",
      "File \u001b[0;32m~/Documents/PhD/ANTIPASTI/antipasti/preprocessing/preprocessing.py:587\u001b[0m, in \u001b[0;36mPreprocessing.load_test_image\u001b[0;34m(self)\u001b[0m\n\u001b[1;32m    584\u001b[0m         h \u001b[38;5;241m=\u001b[39m h[\u001b[38;5;241m0\u001b[39m]\n\u001b[1;32m    585\u001b[0m         l \u001b[38;5;241m=\u001b[39m l[\u001b[38;5;241m0\u001b[39m]\n\u001b[0;32m--> 587\u001b[0m \u001b[38;5;28;01mreturn\u001b[39;00m \u001b[38;5;28mself\u001b[39m\u001b[38;5;241m.\u001b[39mgenerate_masked_image(raw_sample, \u001b[38;5;241m0\u001b[39m, test_h\u001b[38;5;241m=\u001b[39m\u001b[38;5;28mint\u001b[39m(h), test_l\u001b[38;5;241m=\u001b[39m\u001b[38;5;28mint\u001b[39m(l))[\u001b[38;5;241m0\u001b[39m]\n",
      "File \u001b[0;32m~/Documents/PhD/ANTIPASTI/antipasti/preprocessing/preprocessing.py:512\u001b[0m, in \u001b[0;36mPreprocessing.generate_masked_image\u001b[0;34m(self, img, idx, test_h, test_l)\u001b[0m\n\u001b[1;32m    510\u001b[0m     \u001b[38;5;28;01mfor\u001b[39;00m k, i \u001b[38;5;129;01min\u001b[39;00m \u001b[38;5;28menumerate\u001b[39m(idx_list):\n\u001b[1;32m    511\u001b[0m         \u001b[38;5;28;01mfor\u001b[39;00m l, j \u001b[38;5;129;01min\u001b[39;00m \u001b[38;5;28menumerate\u001b[39m(idx_list):\n\u001b[0;32m--> 512\u001b[0m             masked[i, j] \u001b[38;5;241m=\u001b[39m img[k, l]\n\u001b[1;32m    513\u001b[0m             mask[i, j] \u001b[38;5;241m=\u001b[39m \u001b[38;5;241m1\u001b[39m\n\u001b[1;32m    515\u001b[0m \u001b[38;5;28;01melse\u001b[39;00m:\n",
      "\u001b[0;31mIndexError\u001b[0m: index 166 is out of bounds for axis 1 with size 166"
     ]
    }
   ],
   "source": [
    "modes = 30\n",
    "n_filters = 2\n",
    "filter_size = 4\n",
    "pooling_size = 1\n",
    "n_max_epochs = 552\n",
    "\n",
    "mode = 'fully-extended' # Choose between 'fully-extended' and 'fully-cropped'\n",
    "pathological = ['5omm', '1mj7', '1qfw', '1qyg', '4ffz', '3ifl', '3lrh', '3pp4', '3ru8', '3t0w', '3t0x', '4fqr', '4gxu', '4jfx', '4k3h', '4jfz', '4jg0', '4jg1', '4jn2', '4o4y', '4qxt', '4r3s', '4w6y', '4w6y', '5ies', '5ivn', '5j57', '5kvd', '5kzp', '5mes', '5nmv', '5sy8', '5t29', '5t5b', '5vag', '3etb', '3gkz', '3uze', '3uzq', '4f9l', '4gqp', '4r2g', '5c6t']\n",
    "stage = 'predicting'\n",
    "regions = 'paired_hl'\n",
    "\n",
    "test_data_path = '../notebooks/test_data/'\n",
    "test_dccm_map_path = 'dccm_map/'\n",
    "test_residues_path = 'list_of_residues/'\n",
    "test_structure_path = 'structure/'\n",
    "\n",
    "test_pdbs = ['2nz9', '5vpg', '6a0z', '4ffz', '5dd0', '3u0t', '1zv5', '4w6w', '3l95', '1oay', '1m7d', '2hkf', '5alb', '2p44', '4jan', '4odx']\n",
    "h_offset_list = [0, 0, 0, 0, 0, 0, 1, 0, 0, 0, 0, 0, 0, 1, 0, 0]\n",
    "l_offset_list = [0, 0, 0, 0, 0, 0, 0, 0, 0, 1, 0, 0, 1, 0, 2, 0]\n",
    "original_structures = []\n",
    "af_pred_structures = []\n",
    "\n",
    "for test_pdb, h_offset, l_offset in zip(test_pdbs, h_offset_list, l_offset_list):\n",
    "    print(test_pdb)\n",
    "    preprocessed_data = Preprocessing(modes=modes, pathological=pathological, mode=mode, stage=stage, regions=regions, test_data_path=test_data_path, test_dccm_map_path=test_dccm_map_path, test_residues_path=test_residues_path, test_structure_path=test_structure_path, test_pdb_id=test_pdb, alphafold=False)\n",
    "    original_structures.append(preprocessed_data.test_x)\n",
    "    \n",
    "    preprocessed_data = Preprocessing(modes=modes, pathological=pathological, mode=mode, stage=stage, regions=regions, test_data_path=test_data_path, test_dccm_map_path=test_dccm_map_path, test_residues_path=test_residues_path, test_structure_path=test_structure_path, test_pdb_id=test_pdb+'_af', alphafold=True, h_offset=h_offset, l_offset=l_offset)\n",
    "    af_pred_structures.append(preprocessed_data.test_x)\n",
    "    \n",
    "input_shape = preprocessed_data.test_x.shape[-1]"
   ]
  },
  {
   "cell_type": "code",
   "execution_count": null,
   "id": "681d8819",
   "metadata": {},
   "outputs": [],
   "source": [
    "plot_map_with_regions(preprocessed_data, preprocessed_data.test_x, title='Normal mode correlation map of an AlphaFold structure')"
   ]
  },
  {
   "cell_type": "markdown",
   "id": "5c51356a",
   "metadata": {},
   "source": [
    "# Loading an ANTIPASTI checkpoint"
   ]
  },
  {
   "cell_type": "code",
   "execution_count": null,
   "id": "023de2d6",
   "metadata": {},
   "outputs": [],
   "source": [
    "path = '../checkpoints/model_' + regions + '_epochs_' + str(n_max_epochs) + '_modes_' + str(modes) + '_pool_' + str(pooling_size) + '_filters_' + str(n_filters) + '_size_' + str(filter_size) + '.pt'\n",
    "model = load_checkpoint(path, input_shape)[0]\n",
    "model.eval()"
   ]
  },
  {
   "cell_type": "markdown",
   "id": "da5f97aa",
   "metadata": {},
   "source": [
    "# Predicting the binding affinity"
   ]
  },
  {
   "cell_type": "code",
   "execution_count": null,
   "id": "a4f0e496",
   "metadata": {},
   "outputs": [],
   "source": [
    "# We convert to the torch format and predict\n",
    "kds_original = [model(torch.from_numpy(test_arr.reshape(1, 1, input_shape, input_shape).astype(np.float32)))[0].detach().numpy()[0,0] for test_arr in original_structures]\n",
    "kds_af_pred = [model(torch.from_numpy(test_arr.reshape(1, 1, input_shape, input_shape).astype(np.float32)))[0].detach().numpy()[0,0] for test_arr in af_pred_structures]\n",
    "corr_coeff = np.corrcoef(kds_original, kds_af_pred)[1,0]"
   ]
  },
  {
   "cell_type": "code",
   "execution_count": null,
   "id": "d6cacfee",
   "metadata": {},
   "outputs": [],
   "source": [
    "# Horizontal bar chart\n",
    "fig = plt.figure(figsize=(10, 8))\n",
    "y_pos = np.arange(len(test_pdbs))\n",
    "plt.barh(y_pos, kds_original, align='center', alpha=0.9, label='Original structures', color='#3366cc')\n",
    "plt.barh(y_pos, kds_af_pred, align='center', alpha=0.7, label='AF predicted structures', color='#66cc99')\n",
    "\n",
    "# Add labels, title, and legend\n",
    "plt.xlabel('$log_{10}(\\overline{K}_D)$', size=font_size)\n",
    "plt.ylabel('Antibodies in the test set', size=font_size)\n",
    "plt.title('$log_{10}(\\overline{K}_D)$ using original and AlphaFold structures, R = '+str(round(corr_coeff, 2)), size=title_size)\n",
    "plt.yticks(y_pos, test_pdbs)\n",
    "plt.legend()\n",
    "plt.tight_layout()\n",
    "\n",
    "# x-axis going from the minimum to -4.5\n",
    "min_kd = min(min(kds_original), min(kds_af_pred))\n",
    "plt.xlim(min_kd, -4.5)\n",
    "\n",
    "plt.show()"
   ]
  },
  {
   "cell_type": "code",
   "execution_count": null,
   "id": "7c565fad",
   "metadata": {},
   "outputs": [],
   "source": [
    "# Difference of log10(Kd) from original structures and AlphaFold predictions\n",
    "kds_difference = np.array([kds_original[i] - kds_af_pred[i] for i in range(len(kds_original))])\n",
    "\n",
    "# pTM score - Values displayed here but not plotted\n",
    "af_ptm = np.array([0.95, 0.94, 0.93, 0.94, 0.94, 0.92, 0.88, 0.90, 0.94, 0.94, 0.94, 0.94, 0.92, 0.90, 0.92, 0.94])\n",
    "\n",
    "# Maximum alignment error (MAE)\n",
    "af_max_mae = np.array([20.19, 21.88, 26.08, 21.25, 23.58, 24.98, 19.16, 23.5, 24.47, 22.92, 20.52, 22.94, 29.88, 17.33, 25.84, 23.22])\n",
    "\n",
    "# Predicted local distance difference test (pLDDT), i.e., per-residue confidence\n",
    "# Average of the 10 lowest elements\n",
    "af_plddt = np.array([92.89, 89.57, 63.06, 89.22, 83.10, 72.56, 83.63, 86.99, 76.23, 83.27, 86.21, 78.74, 54.22, 88.66, 78.93, 76.462])"
   ]
  },
  {
   "cell_type": "code",
   "execution_count": null,
   "id": "142911a4",
   "metadata": {},
   "outputs": [],
   "source": [
    "fig = plt.figure(figsize=(10, 8))\n",
    "plt.scatter(np.abs(kds_difference), 100-af_plddt+af_max_mae)\n",
    "plt.title('Impact of AlphaFold\\'s folding confidence in $log_{10}(\\overline{K}_D)$', size=title_size)\n",
    "plt.xlabel('Difference of $log_{10}(\\overline{K}_D)$ from original structures and from AlphaFold\\'s predictions', size=font_size-1)\n",
    "plt.ylabel('MAE + Per-residue confidence error', size=font_size-1)\n",
    "\n",
    "for i, txt in enumerate(test_pdbs):\n",
    "    plt.annotate(txt, (np.abs(kds_difference[i]), 100-af_plddt[i]+af_max_mae[i]))"
   ]
  },
  {
   "cell_type": "code",
   "execution_count": null,
   "id": "0d97182b",
   "metadata": {},
   "outputs": [],
   "source": []
  }
 ],
 "metadata": {
  "kernelspec": {
   "display_name": "Python 3 (ipykernel)",
   "language": "python",
   "name": "python3"
  },
  "language_info": {
   "codemirror_mode": {
    "name": "ipython",
    "version": 3
   },
   "file_extension": ".py",
   "mimetype": "text/x-python",
   "name": "python",
   "nbconvert_exporter": "python",
   "pygments_lexer": "ipython3",
   "version": "3.11.3"
  }
 },
 "nbformat": 4,
 "nbformat_minor": 5
}
