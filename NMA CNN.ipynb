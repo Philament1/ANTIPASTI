{
 "cells": [
  {
   "cell_type": "code",
   "execution_count": 1,
   "id": "3c24c602",
   "metadata": {},
   "outputs": [],
   "source": [
    "import cv2\n",
    "import glob\n",
    "import os\n",
    "import pandas as pd\n",
    "import numpy as np\n",
    "import subprocess\n",
    "\n",
    "# general imports\n",
    "from copy import deepcopy\n",
    "from pathlib import Path\n",
    "from PIL import Image, ImageOps\n",
    "from scipy.signal import resample\n",
    "\n",
    "# for reading and displaying images\n",
    "import matplotlib.pyplot as plt\n",
    "%matplotlib inline\n",
    "\n",
    "# for creating validation set\n",
    "from sklearn.model_selection import train_test_split\n",
    "\n",
    "# for evaluating the model\n",
    "from sklearn.metrics import accuracy_score\n",
    "from tqdm import tqdm\n",
    "\n",
    "# PyTorch libraries and modules\n",
    "import torch\n",
    "from torch.autograd import Variable\n",
    "from torch.nn import Linear, ReLU, CrossEntropyLoss, Sequential, Conv2d, MaxPool2d, Module, Softmax, BatchNorm2d, Dropout, MSELoss, SmoothL1Loss\n",
    "from torch.optim import Adam, SGD, lr_scheduler, LBFGS, RAdam, AdamW\n",
    "from torch.utils.data import DataLoader\n",
    "from torchmetrics import PeakSignalNoiseRatio\n",
    "from adabelief_pytorch import AdaBelief\n",
    "#from torchviz import make_dot"
   ]
  },
  {
   "cell_type": "code",
   "execution_count": 2,
   "id": "da3be072",
   "metadata": {},
   "outputs": [],
   "source": [
    "def generate_cdr1_to_cdr3_pdb(path, keepABC=True, lresidues=False):\n",
    "    list_residues = ['START']\n",
    "    with open(path, 'r') as f: # needs to be Chothia-numbered\n",
    "        content = f.readlines()\n",
    "        header_lines_important = range(4)\n",
    "        header_lines = [content[i][0]=='R' for i in range(len(content))].count(True)\n",
    "        h_range = range(26, 103)\n",
    "        l_range = range(24, 98)\n",
    "        chain_range = slice(21, 22)\n",
    "        res_range = slice(23, 26)\n",
    "        res_extra_letter = 26 #sometimes includes a letter 'A', 'B', 'C', ...\n",
    "        h_chain_key = 'HCHAIN'\n",
    "        l_chain_key = 'LCHAIN'\n",
    "        idx_list = list(header_lines_important)\n",
    "        new_path = path[:-4] + '_CDR1_to_CDR3' + path[-4:]\n",
    "        \n",
    "        # Getting the names of the heavy and light chains\n",
    "        line = content[header_lines_important[-1]]\n",
    "        if line.find(h_chain_key) != -1:\n",
    "            h_pos = line.find(h_chain_key) + len(h_chain_key) + 1\n",
    "            h_chain = line[h_pos:h_pos+1]\n",
    "            \n",
    "            # Obtaining the CDR1 to CDR3 lines for both chains\n",
    "            for i, line in enumerate(content[header_lines:]):\n",
    "                if line[chain_range].find(h_chain) != -1 and int(line[res_range]) in h_range:\n",
    "                    if line[res_extra_letter] == ' ' or keepABC == True:\n",
    "                        idx_list.append(i+header_lines)\n",
    "                        if lresidues == True:\n",
    "                            full_res = line[chain_range] + line[res_range] + line[res_extra_letter]\n",
    "                            if full_res != list_residues[-1]:\n",
    "                                list_residues.append(full_res)\n",
    "        \n",
    "        #line = content[header_lines_important[-1]]                       \n",
    "        #if line.find(l_chain_key) != -1:\n",
    "        #    l_pos = line.find(l_chain_key) + len(l_chain_key) + 1\n",
    "        #    l_chain = line[l_pos:l_pos+1]\n",
    "            \n",
    "        #    # This separation ensures that heavy chain residues are enlisted first\n",
    "        #    for i, line in enumerate(content[header_lines:]):\n",
    "        #        if line[chain_range].find(l_chain) != -1 and int(line[res_range]) in l_range:\n",
    "        #            if line[res_extra_letter] == ' ' or keepABC == True:\n",
    "        #                idx_list.append(i+header_lines)\n",
    "        #                if lresidues == True:\n",
    "        #                    full_res = line[chain_range] + line[res_range] + line[res_extra_letter]\n",
    "        #                    if full_res != list_residues[-1]:\n",
    "        #                        list_residues.append(full_res)                   \n",
    "    \n",
    "    # List with name of every residue is saved if selected\n",
    "    if lresidues == True:\n",
    "        list_residues.append('END')\n",
    "        np.save('/Users/kevinmicha/Documents/PhD/predicting-affinity/lists_of_residues/'+path[-8:-4]+'.npy', list_residues)\n",
    "                        \n",
    "                    \n",
    "    # Creating new file\n",
    "    with open(new_path, 'w') as f_new:\n",
    "        f_new.writelines([content[l] for l in idx_list])"
   ]
  },
  {
   "cell_type": "code",
   "execution_count": 26,
   "id": "33107bc1",
   "metadata": {},
   "outputs": [],
   "source": [
    "# Getting entries with affinity and antigen information\n",
    "df = pd.read_csv('sabdab_summary_all.tsv', sep='\\t', header=0)[['pdb', 'antigen_type', 'affinity']]\n",
    "pathological = ['5omm', '1mj7', '1qfw', '1qyg', '3ifl', '3lrh', '3pp4', '3ru8', '3t0w', '3t0x', '4fqr', '4gxu', '4jfx', '4k3h', '4jfz', '4jg0', '4jg1', '4jn2', '4o4y', '4qxt', '4r3s', '4w6y', '4w6y', '5ies', '5ivn', '5j57', '5kvd', '5kzp', '5mes', '5nmv', '5sy8', '5t29', '5t5b', '5vag']\n",
    "df.drop_duplicates(keep='first', inplace=True)\n",
    "df = df[(df.antigen_type.notna()) & (df.antigen_type != 'NA')][['pdb', 'affinity']]\n",
    "df = df[(df.affinity.notna()) & (df.affinity != 'None')]\n",
    "df = df[~df['pdb'].isin(pathological)] # Removing pathological cases \n",
    "entries = list(df['pdb'])\n",
    "affinity = list(df['affinity'])\n",
    "modes = 30 # 'all' if no limit is desired, otherwise a number is required\n",
    "numbering = ''\n",
    "selection = '_CDR1_to_CDR3'\n",
    "folder = str(Path.home() / 'Downloads') + '/all_structures/chothia/'\n",
    "file_type_input = '.pdb'\n",
    "dccm_map_path = 'dccm_maps/'\n",
    "\n",
    "# Uncomment to generate\n",
    "\n",
    "#for entry in entries:\n",
    "#    file_name = entry + numbering + selection\n",
    "#    path = folder + file_name + file_type_input\n",
    "#    new_path = dccm_map_path + entry\n",
    "#    generate_cdr1_to_cdr3_pdb(folder+entry+numbering+file_type_input) \n",
    "#    subprocess.call(['/usr/local/bin/RScript pdb_to_dccm.r ' + str(path) + ' ' + str(new_path) + ' ' + str(modes)], shell=True, stdout=open(os.devnull, 'wb'))#    subprocess.call(['/usr/local/bin/RScript get_chain_lengths.r ' + str(path)], shell=True, stdout=open(os.devnull, 'wb'))\n",
    "#\n",
    "#\n",
    "#    if os.path.exists(path):\n",
    "#        os.remove(path)"
   ]
  },
  {
   "cell_type": "code",
   "execution_count": 27,
   "id": "0f4ecb81",
   "metadata": {
    "scrolled": true
   },
   "outputs": [],
   "source": [
    "dccm_paths = sorted(glob.glob(os.path.join(dccm_map_path, '*.npy')))\n",
    "selected_entries = [dccm_paths[i][-8:-4] for i in range(len(dccm_paths))]\n",
    "heavy = np.load('chain_lengths/heavy_lengths.npy').astype(int)\n",
    "#light = np.load('chain_lengths/light_lengths.npy').astype(int)\n",
    "\n",
    "assert list(np.load('chain_lengths/selected_entries.npy')) == selected_entries\n",
    "\n",
    "for entry in selected_entries:\n",
    "    assert len(np.load('/Users/kevinmicha/Documents/PhD/predicting-affinity/lists_of_residues/'+entry+'.npy'))-2 == heavy[selected_entries.index(entry)] #+ light[selected_entries.index(entry)]\n",
    "\n",
    "# Uncomment to get the lengths (of the light and heavy chains) and lists of residues\n",
    "\n",
    "#heavy = []\n",
    "##light = []\n",
    "\n",
    "#for entry in selected_entries:\n",
    "#    file_name = entry + numbering + selection\n",
    "#    path = folder + file_name + file_type_input\n",
    "#    new_path = dccm_map_path + entry\n",
    "#    generate_cdr1_to_cdr3_pdb(folder+entry+numbering+file_type_input, keepABC=True, lresidues=True)\n",
    "#    subprocess.call(['/usr/local/bin/RScript get_chain_lengths.r ' + str(path)], shell=True, stdout=open(os.devnull, 'wb'))\n",
    "#   \n",
    "#    if os.path.exists(path):\n",
    "#        os.remove(path)\n",
    "#    h, l = np.load('/Users/kevinmicha/Downloads/value.npy') # there might be a neat solution\n",
    "#\n",
    "#    heavy.append(h)\n",
    "#    #light.append(l)\n",
    "#np.save('heavy_lengths.npy', heavy)\n",
    "##np.save('light_lengths.npy', light)\n",
    "#np.save('selected_entries.npy', selected_entries)"
   ]
  },
  {
   "cell_type": "code",
   "execution_count": 28,
   "id": "c66d6794",
   "metadata": {},
   "outputs": [
    {
     "data": {
      "image/png": "[encoded data removed]",
      "text/plain": [
       "<Figure size 640x480 with 1 Axes>"
      ]
     },
     "metadata": {},
     "output_type": "display_data"
    }
   ],
   "source": [
    "plt.hist(heavy, 8)\n",
    "plt.xlabel('Heavy chain length')\n",
    "plt.ylabel('Frequency')\n",
    "plt.show()"
   ]
  },
  {
   "cell_type": "code",
   "execution_count": 29,
   "id": "c1d87542",
   "metadata": {},
   "outputs": [],
   "source": [
    "#plt.hist(light, 8)\n",
    "#plt.xlabel('Light chain length')\n",
    "#plt.ylabel('Frequency')\n",
    "#plt.show()"
   ]
  },
  {
   "cell_type": "code",
   "execution_count": 30,
   "id": "9cba3702",
   "metadata": {},
   "outputs": [],
   "source": [
    "#plt.hist([sum(x) for x in zip(heavy, light)], 8)\n",
    "#plt.xlabel('Total length')\n",
    "#plt.ylabel('Frequency')\n",
    "#plt.show()"
   ]
  },
  {
   "cell_type": "code",
   "execution_count": 120,
   "id": "22865e09",
   "metadata": {
    "scrolled": false
   },
   "outputs": [
    {
     "name": "stdout",
     "output_type": "stream",
     "text": [
      "The longest chain has 120 residues, while the shortest has 44\n"
     ]
    }
   ],
   "source": [
    "# Code that obtains the longest/shortest possible chain\n",
    "\n",
    "def noABC(residue):\n",
    "    return residue[:-1]\n",
    "\n",
    "residue_path = 'lists_of_residues/'\n",
    "file_residues_paths = sorted(glob.glob(os.path.join('/Users/kevinmicha/Documents/PhD/predicting-affinity/'+residue_path, '*.npy')))\n",
    "max_res_list = []\n",
    "\n",
    "for f in file_residues_paths:\n",
    "    current_list = np.load(f)[1:heavy[selected_entries.index(f[-8:-4])]+1]\n",
    "    current_list = [x[1:] for x in current_list]\n",
    "    max_res_list += list(set(current_list).difference(max_res_list))\n",
    "    \n",
    "max_res_list = sorted(max_res_list, key=noABC)\n",
    "min_res_list = list(dict.fromkeys([x for x in max_res_list]))\n",
    "max_res_list = [x.strip() for x in max_res_list]\n",
    "\n",
    "for f in file_residues_paths:\n",
    "    current_list = np.load(f)[1:heavy[selected_entries.index(f[-8:-4])]+1]\n",
    "    current_list = [x[1:] for x in current_list]\n",
    "    min_res_list = sorted(list(set(current_list).intersection(min_res_list)))\n",
    "\n",
    "min_res_list = [x.strip() for x in min_res_list]\n",
    "\n",
    "print('The longest chain has ' + str(len(max_res_list)) + ' residues, while the shortest has ' + str(len(min_res_list)))"
   ]
  },
  {
   "cell_type": "code",
   "execution_count": null,
   "id": "1c76af84",
   "metadata": {},
   "outputs": [],
   "source": [
    "# loading training images\n",
    "imgs = []\n",
    "kds = []\n",
    "labels = []\n",
    "data_path = '/Users/kevinmicha/Documents/PhD/predicting-affinity/' + dccm_map_path\n",
    "file_paths = sorted(glob.glob(os.path.join(data_path, '*.npy')))\n",
    "for f in file_paths:\n",
    "    pdb_id = f[-8:-4]\n",
    "    if pdb_id in selected_entries:\n",
    "        idx = entries.index(pdb_id)\n",
    "        idx_new = selected_entries.index(pdb_id)\n",
    "        labels.append(pdb_id)\n",
    "        imgs.append(cv2.resize(np.load(f)[:heavy[idx_new], :heavy[idx_new]], dsize=(80, 80)))\n",
    "        #imgs.append(np.load(f)[:heavy[idx_new], :heavy[idx_new]])\n",
    "        kds.append(np.log10(np.float32(affinity[idx])))\n",
    "\n",
    "assert labels == selected_entries\n",
    "\n",
    "for pdb in selected_entries:\n",
    "    assert np.float16(10**kds[selected_entries.index(pdb)] == np.float16(df[df['pdb']==pdb]['affinity'])).all()\n",
    "\n",
    "# converting the list to numpy array\n",
    "#train_x = np.array(np.triu(imgs))\n",
    "train_x = np.array(imgs)\n",
    "# defining the target\n",
    "train_y = np.array(kds)"
   ]
  },
  {
   "cell_type": "code",
   "execution_count": null,
   "id": "5ac74fad",
   "metadata": {},
   "outputs": [],
   "source": [
    "plt.imshow(train_x[17].reshape(train_x.shape[-1], train_x.shape[-1]), origin='lower')\n",
    "plt.colorbar()"
   ]
  },
  {
   "cell_type": "code",
   "execution_count": null,
   "id": "fd09ab8d",
   "metadata": {},
   "outputs": [],
   "source": [
    "# create validation set\n",
    "train_x, val_x, train_y, val_y = train_test_split(train_x, train_y, test_size = 0.01)\n",
    "(train_x.shape, train_y.shape), (val_x.shape, val_y.shape)"
   ]
  },
  {
   "cell_type": "code",
   "execution_count": null,
   "id": "e10fdc58",
   "metadata": {},
   "outputs": [],
   "source": [
    "# converting training images into torch format\n",
    "train_x = train_x.reshape(train_x.shape[0], 1, train_x.shape[1], train_x.shape[1])\n",
    "train_x = train_x.astype(np.float32)\n",
    "train_x  = torch.from_numpy(train_x)\n",
    "\n",
    "# converting the target into torch format\n",
    "train_y = train_y.astype(np.float32).reshape(train_y.shape[0], 1)\n",
    "train_y = torch.from_numpy(train_y)\n",
    "\n",
    "# shape of training data\n",
    "train_x.shape, train_y.shape"
   ]
  },
  {
   "cell_type": "code",
   "execution_count": null,
   "id": "f5e477a1",
   "metadata": {},
   "outputs": [],
   "source": [
    "len(list(train_x))"
   ]
  },
  {
   "cell_type": "code",
   "execution_count": null,
   "id": "a945d956",
   "metadata": {},
   "outputs": [],
   "source": [
    "# converting validation images into torch format\n",
    "val_x = val_x.reshape(val_x.shape[0], 1, train_x.shape[2], train_x.shape[2])\n",
    "val_x = val_x.astype(np.float32)\n",
    "val_x  = torch.from_numpy(val_x)\n",
    "\n",
    "# converting the target into torch format\n",
    "val_y = val_y.astype(np.float32).reshape(val_y.shape[0], 1)\n",
    "val_y = torch.from_numpy(val_y)\n",
    "\n",
    "# shape of validation data\n",
    "val_x.shape, val_y.shape"
   ]
  },
  {
   "cell_type": "code",
   "execution_count": null,
   "id": "8c07736c",
   "metadata": {},
   "outputs": [],
   "source": [
    "n_filters = 3\n",
    "filter_size = 21\n",
    "pooling_size = 4\n",
    "fully_connected_input = n_filters * ((train_x.shape[2] - filter_size + 1) // pooling_size) ** 2\n",
    "\n",
    "class MultiLabelNN(Module):\n",
    "    def __init__(self):\n",
    "        super(MultiLabelNN, self).__init__()\n",
    "        self.conv1 = Conv2d(1, n_filters, filter_size)\n",
    "        self.conv1.weight.data = torch.tril(self.conv1.weight.data) + torch.transpose(torch.tril(self.conv1.weight.data), 2, 3)\n",
    "        #self.conv1.weight.data.fill_(1e-5)\n",
    "        self.pool = MaxPool2d(pooling_size, pooling_size)\n",
    "        #self.conv2 = Conv2d(16, 32, 3)\n",
    "        #self.conv2.weight.data = torch.tril(self.conv2.weight.data) + torch.transpose(torch.tril(self.conv2.weight.data), 2, 3)\n",
    "        #self.conv2.weight.data = torch.transpose(self.conv2.weight.data, 2, 3)\n",
    "        self.relu = ReLU()\n",
    "        self.fc1 = Linear(fully_connected_input, 1, bias=False)\n",
    "        #self.fc2 = Linear(128, 1)\n",
    "        self.dropit = Dropout(p=0.05)\n",
    "        #self.fc3 = Linear(128, 64)\n",
    "        #self.fc4 = Linear(64, 1)\n",
    "\n",
    "    def forward(self, x):\n",
    "       #shape of x is (b_s, 32,32,1)\n",
    "        x = self.conv1(x) + torch.transpose(self.conv1(x), 2, 3)#shape of x is (b_s, 28,28,132)\n",
    "        #x = self.relu(x)\n",
    "        x = self.pool(x) #shape of x now becomes (b_s X 14 x 14 x 32)\n",
    "        #x = self.conv2(x) # shape(b_s, 10x10x64)\n",
    "        x = self.relu(x)#size is (b_s x 10 x 10 x 64)\n",
    "        x = x.view(x.size(0), -1) # shape of x is now(b_s*2, 3200)\n",
    "        #this is the problem \n",
    "        #you can fc1 to be of shape (6400,1024) and that will work \n",
    "        x = self.dropit(x)\n",
    "        x = self.fc1(x)\n",
    "        #x = self.relu(x)\n",
    "        #x = self.fc2(x)\n",
    "        #x = self.relu(x)\n",
    "        #x = self.fc3(x)\n",
    "        #x = self.relu(x)\n",
    "        #x = self.fc4(x)\n",
    "\n",
    "\n",
    "        return x.float()\n"
   ]
  },
  {
   "cell_type": "code",
   "execution_count": null,
   "id": "836251dd",
   "metadata": {
    "scrolled": false
   },
   "outputs": [],
   "source": [
    "# defining the model\n",
    "model = MultiLabelNN()\n",
    "# defining the optimizer\n",
    "#optimizer = Adam(model.parameters(), lr=3e-3)\n",
    "#optimizer = AdamW(model.parameters(), lr=2e-3)\n",
    "optimizer = AdaBelief(model.parameters(), lr=2e-3, eps=1e-8) #try lr 2e-3\n",
    "#optimizer = SGD(model.parameters(), lr=9e-4)\n",
    "#scheduler = lr_scheduler.ReduceLROnPlateau(optimizer, mode='min', patience=10, min_lr=3e-4, factor=0.1)\n",
    "# defining the loss function\n",
    "criterion = MSELoss()\n",
    "# checking if GPU is available\n",
    "if torch.cuda.is_available():\n",
    "    model = model.cuda()\n",
    "    criterion = criterion.cuda()\n",
    "print(model)"
   ]
  },
  {
   "cell_type": "code",
   "execution_count": null,
   "id": "60177db4",
   "metadata": {},
   "outputs": [],
   "source": [
    "def train(epoch):\n",
    "    model.train()\n",
    "    tr_loss = 0\n",
    "    batch_size = 32\n",
    "    # getting the training set\n",
    "    x_train, y_train = Variable(train_x), Variable(train_y)\n",
    "    # getting the validation set\n",
    "    x_val, y_val = Variable(val_x), Variable(val_y)\n",
    "\n",
    "    # converting the data into GPU format\n",
    "    if torch.cuda.is_available():\n",
    "        x_train = x_train.cuda()\n",
    "        y_train = y_train.cuda()\n",
    "        x_val = x_val.cuda()\n",
    "        y_val = y_val.cuda()\n",
    "    \n",
    "    permutation = torch.randperm(x_train.size()[0])\n",
    "    #val_indices = torch.randperm(x_val.size()[0])[:1]\n",
    "\n",
    "    for i in range(0, x_train.size()[0], batch_size):\n",
    "\n",
    "        \n",
    "        indices = permutation[i:i+batch_size]\n",
    "        batch_x, batch_y = x_train[indices], y_train[indices]\n",
    "        \n",
    "        \n",
    "        # prediction for training and validation set\n",
    "        output_train = model(batch_x)\n",
    "\n",
    "        # computing the training and validation loss\n",
    "        loss_train = criterion(output_train, batch_y)\n",
    "\n",
    "        # computing the updated weights of all the model parameters\n",
    "        loss_train.backward()\n",
    "        optimizer.step()\n",
    "        \n",
    "        # clearing the Gradients of the model parameters\n",
    "        optimizer.zero_grad(set_to_none=True)\n",
    "        \n",
    "        tr_loss += loss_train.item() * batch_size / x_train.size()[0]\n",
    "    output_val = model(x_val)#[val_indices])\n",
    "    loss_val = criterion(output_val, y_val)#[val_indices])\n",
    "    #scheduler.step(loss_val)\n",
    "    train_losses.append(tr_loss)\n",
    "    val_losses.append(loss_val)\n",
    "    \n",
    "    # printing the validation loss\n",
    "    print('Epoch : ',epoch+1, '\\t', 'train loss: ', tr_loss, 'val loss :', loss_val)\n",
    "    print(output_val)\n",
    "    print(y_val)#[val_indices])\n",
    "        \n",
    "    return tr_loss, loss_val\n"
   ]
  },
  {
   "cell_type": "code",
   "execution_count": null,
   "id": "9e57bef3",
   "metadata": {},
   "outputs": [],
   "source": [
    "# empty list to store training losses\n",
    "train_losses = []\n",
    "# empty list to store validation losses\n",
    "val_losses = []"
   ]
  },
  {
   "cell_type": "code",
   "execution_count": null,
   "id": "8ee0f904",
   "metadata": {
    "scrolled": true
   },
   "outputs": [],
   "source": [
    "# defining the number of epochs\n",
    "n_max_epochs = 200\n",
    "\n",
    "# training the model\n",
    "for epoch in range(n_max_epochs):\n",
    "    tr_loss, val_loss = train(epoch)\n",
    "    if tr_loss < 0.05 and val_loss < 0.1:\n",
    "        break"
   ]
  },
  {
   "cell_type": "code",
   "execution_count": null,
   "id": "dabcff8d",
   "metadata": {
    "scrolled": true
   },
   "outputs": [],
   "source": [
    "plt.plot([train_losses[i] for i in range(len(train_losses))])\n",
    "plt.title('Training loss')\n",
    "plt.xlabel('Number of epoch')\n",
    "plt.ylabel('MSE')\n",
    "plt.show()"
   ]
  },
  {
   "cell_type": "code",
   "execution_count": null,
   "id": "64fa6b14",
   "metadata": {},
   "outputs": [],
   "source": [
    "plt.plot([val_losses[i].detach().numpy() for i in range(len(val_losses))])\n",
    "plt.title('Validation loss')\n",
    "plt.xlabel('Number of epoch')\n",
    "plt.ylabel('MSE')\n",
    "plt.show()"
   ]
  },
  {
   "cell_type": "code",
   "execution_count": null,
   "id": "27006e6f",
   "metadata": {},
   "outputs": [],
   "source": [
    "model.eval()\n",
    "model(Variable(train_x[58:65]))"
   ]
  },
  {
   "cell_type": "code",
   "execution_count": null,
   "id": "4264d33e",
   "metadata": {},
   "outputs": [],
   "source": [
    "Variable(train_y[58:65])"
   ]
  },
  {
   "cell_type": "code",
   "execution_count": null,
   "id": "c43e744e",
   "metadata": {},
   "outputs": [],
   "source": [
    "file_paths"
   ]
  },
  {
   "cell_type": "code",
   "execution_count": null,
   "id": "f9b8295e",
   "metadata": {},
   "outputs": [],
   "source": [
    "download_path = '/Users/kevinmicha/Downloads/' # or data_path\n",
    "\n",
    "test_sample = torch.from_numpy(cv2.resize(np.load(download_path + '1t66.npy')[:76, :76], dsize=(80, 80)).reshape(1, 1, train_x.shape[2], train_x.shape[2]).astype(np.float32))"
   ]
  },
  {
   "cell_type": "code",
   "execution_count": null,
   "id": "7d97ba39",
   "metadata": {},
   "outputs": [],
   "source": [
    "model.eval()\n",
    "model(test_sample)"
   ]
  },
  {
   "cell_type": "code",
   "execution_count": null,
   "id": "a3adef86",
   "metadata": {},
   "outputs": [],
   "source": [
    "prediction = 10**model(test_sample).detach().numpy()\n",
    "prediction"
   ]
  },
  {
   "cell_type": "code",
   "execution_count": null,
   "id": "e8d34b9f",
   "metadata": {},
   "outputs": [],
   "source": [
    "plt.imshow(test_sample[0,0,...], origin='lower')\n",
    "plt.colorbar()"
   ]
  },
  {
   "cell_type": "code",
   "execution_count": null,
   "id": "fdfe7e2c",
   "metadata": {},
   "outputs": [],
   "source": [
    "import itertools\n",
    "\n",
    "fig, axs = plt.subplots(n_filters, 1, figsize=(12, 12))\n",
    "conv_filters = deepcopy(model.conv1.weight.data.numpy())\n",
    "                           \n",
    "for i, j in itertools.product(range(n_filters), range(1)):\n",
    "    im = axs[i].imshow(conv_filters[i+j][0], origin='lower')\n",
    "    axs[i].set_xticks([0, 6.25, 20], ['CDR-H1', 'CDR-H2', 'CDR-H3']) \n",
    "    axs[i].set_yticks([0, 6.25, 20], ['CDR-H1', 'CDR-H2', 'CDR-H3']) \n",
    "    plt.colorbar(im, ax=axs[i])"
   ]
  },
  {
   "cell_type": "code",
   "execution_count": null,
   "id": "8cb0c90c",
   "metadata": {},
   "outputs": [],
   "source": [
    "plt.imshow(np.mean(conv_filters[0,...], axis=0), origin='lower')\n",
    "plt.colorbar()"
   ]
  },
  {
   "cell_type": "code",
   "execution_count": null,
   "id": "6a8e917f",
   "metadata": {},
   "outputs": [],
   "source": [
    "fig, axs = plt.subplots(n_filters, 1, figsize=(12, 12))\n",
    "\n",
    "fully_connected = deepcopy(model.fc1.weight.data.numpy().reshape(n_filters, 225))\n",
    "#fully_connected = np.where(abs(fully_connected)<0.05, 0, fully_connected)\n",
    "\n",
    "for i, j in itertools.product(range(n_filters), range(1)):\n",
    "    im = axs[i].imshow(fully_connected[i].reshape(15, 15), origin='lower')\n",
    "    axs[i].set_xticks([0, 4.5, 14], ['CDR-H1', 'CDR-H2', 'CDR-H3']) \n",
    "    axs[i].set_yticks([0, 4.5, 14], ['CDR-H1', 'CDR-H2', 'CDR-H3']) \n",
    "    plt.colorbar(im, ax=axs[i])\n"
   ]
  },
  {
   "cell_type": "code",
   "execution_count": null,
   "id": "cff38e06",
   "metadata": {},
   "outputs": [],
   "source": [
    "plt.imshow(np.mean(fully_connected.reshape(n_filters, 15, 15), axis=0), origin='lower')\n",
    "plt.colorbar()"
   ]
  },
  {
   "cell_type": "code",
   "execution_count": null,
   "id": "d0cfe34f",
   "metadata": {},
   "outputs": [],
   "source": [
    "fig, axs = plt.subplots(n_filters, 1, figsize=(12, 12))\n",
    "\n",
    "img = np.zeros((15, 15))\n",
    "for i, j in itertools.product(range(n_filters), range(1)):\n",
    "    conv_bank = cv2.resize(conv_filters[i,0,...], dsize=(15, 15), interpolation=cv2.INTER_AREA)\n",
    "    #new_img = np.multiply(np.where(conv_bank<-3,0,conv_bank), fully_connected[i].reshape(15, 15)) \n",
    "    new_img = np.multiply(conv_bank, fully_connected[i].reshape(15, 15)) #+ model.fc1.bias.data.numpy()\n",
    "    im = axs[i].imshow(new_img, origin='lower')\n",
    "    axs[i].set_xticks([0, 4.5, 14], ['CDR-H1', 'CDR-H2', 'CDR-H3']) \n",
    "    axs[i].set_yticks([0, 4.5, 14], ['CDR-H1', 'CDR-H2', 'CDR-H3']) \n",
    "    plt.colorbar(im, ax=axs[i])\n",
    "    img += new_img"
   ]
  },
  {
   "cell_type": "code",
   "execution_count": null,
   "id": "70d5cad0",
   "metadata": {},
   "outputs": [],
   "source": [
    "#blue = \"need blue in dccm\"\n",
    "#yellow = \"need red in dccm\"\n",
    "plt.imshow(np.where(abs(img)<0.002, 0, img), origin='lower')\n",
    "plt.colorbar()\n",
    "plt.show()"
   ]
  },
  {
   "cell_type": "code",
   "execution_count": null,
   "id": "4987cfbf",
   "metadata": {},
   "outputs": [],
   "source": [
    "img.sum()"
   ]
  },
  {
   "cell_type": "code",
   "execution_count": null,
   "id": "907c8f1e",
   "metadata": {},
   "outputs": [],
   "source": [
    "plt.imshow(cv2.resize(img, dsize=(76, 76)), origin='lower')\n",
    "plt.colorbar()"
   ]
  },
  {
   "cell_type": "code",
   "execution_count": null,
   "id": "d4ea7ffa",
   "metadata": {},
   "outputs": [],
   "source": [
    "#Arbitrary mask analysis\n",
    "test_mask = np.zeros((76,76))\n",
    "test_mask[:5, 55:59] = 1\n",
    "test_mask += np.transpose(test_mask)\n",
    "plt.imshow(test_mask, origin='lower')"
   ]
  },
  {
   "cell_type": "code",
   "execution_count": null,
   "id": "837933ce",
   "metadata": {},
   "outputs": [],
   "source": [
    "#CDR-H3 analysis\n",
    "cdr3_mask = np.zeros((76,76))\n",
    "cdr3_mask[73:, 73:] = 1\n",
    "plt.imshow(cdr3_mask, origin='lower')"
   ]
  },
  {
   "cell_type": "code",
   "execution_count": null,
   "id": "792d87f6",
   "metadata": {},
   "outputs": [],
   "source": [
    "#CDR-H1 analysis\n",
    "cdr1_mask = np.zeros((76,76))\n",
    "cdr1_mask[:1, :1] = 1\n",
    "plt.imshow(cdr1_mask, origin='lower')"
   ]
  },
  {
   "cell_type": "code",
   "execution_count": null,
   "id": "a1b8f92f",
   "metadata": {},
   "outputs": [],
   "source": [
    "img_factor = -0.2\n",
    "cdr3_factor = 0\n",
    "cdr1_factor = 0\n",
    "test_factor = 0\n",
    "\n",
    "ideal = np.load(download_path + '1t66.npy')[:76, :76].astype(np.float32) + img_factor * cv2.resize(img, dsize=(76, 76)) + cdr3_factor * cdr3_mask  + cdr1_factor * cdr1_mask + test_factor * test_mask\n",
    "plt.imshow(ideal, origin='lower')\n",
    "plt.colorbar()"
   ]
  },
  {
   "cell_type": "code",
   "execution_count": null,
   "id": "1b8a2ef1",
   "metadata": {},
   "outputs": [],
   "source": [
    "model.eval()\n",
    "new_prediction = 10**model(torch.from_numpy(cv2.resize(ideal, dsize=(80, 80)).reshape(1, 1, 80, 80).astype(np.float32))).detach().numpy()\n",
    "per_change = ((prediction - new_prediction) / prediction * 100)[0][0]\n",
    "print(new_prediction)\n",
    "print('Adding/subtracting the obtained map with a factor of', img_factor, 'makes Kd smaller by', per_change, '%')"
   ]
  },
  {
   "cell_type": "code",
   "execution_count": null,
   "id": "27d02c54",
   "metadata": {},
   "outputs": [],
   "source": [
    "cdr1_coord = range(6)\n",
    "cdr2_coord = range(25, 32)\n",
    "cdr3_coord = range(72, 76)\n",
    "beta11_coord = range(8, 13)\n",
    "beta12_coord = range(20, 25)\n",
    "beta13_coord = range(32, 35)\n",
    "beta14_coord = range(66, 72)\n",
    "beta21_coord = range(42, 48)\n",
    "beta22_coord = range(51, 58)\n",
    "alpha_coord = range(60, 63)"
   ]
  },
  {
   "cell_type": "code",
   "execution_count": null,
   "id": "376d42e1",
   "metadata": {},
   "outputs": [],
   "source": [
    "cdr1_corr = cv2.resize(img, dsize=(76, 76))[:, cdr1_coord]\n",
    "plt.imshow(np.where(abs(cdr1_corr)<abs(cdr1_corr).max()/8, 0, cdr1_corr), origin='lower')\n",
    "plt.yticks([2.5, 10, 22, 27.5, 33, 44.5, 54, 68, 73.5], ['CDR-H1', 'Beta-11', 'Beta-12', 'CDR-H2', 'Beta-13', 'Beta-21', 'Beta-22', 'Beta-14', 'CDR-H3']) \n",
    "plt.colorbar()\n",
    "plt.title('CDR-H1')\n",
    "plt.show()"
   ]
  },
  {
   "cell_type": "code",
   "execution_count": null,
   "id": "deaad18a",
   "metadata": {},
   "outputs": [],
   "source": [
    "beta11_corr = cv2.resize(img, dsize=(76, 76))[:, beta11_coord]\n",
    "plt.imshow(np.where(abs(beta11_corr)<abs(beta11_corr).max()/7, 0, beta11_corr), origin='lower')\n",
    "plt.yticks([2.5, 10, 22, 27.5, 33, 44.5, 54, 68, 73.5], ['CDR-H1', 'Beta-11', 'Beta-12', 'CDR-H2', 'Beta-13', 'Beta-21', 'Beta-22', 'Beta-14', 'CDR-H3']) \n",
    "plt.colorbar()\n",
    "plt.title('Beta-11')\n",
    "plt.show()"
   ]
  },
  {
   "cell_type": "code",
   "execution_count": null,
   "id": "d4fde8a5",
   "metadata": {},
   "outputs": [],
   "source": [
    "beta12_corr = cv2.resize(img, dsize=(76, 76))[:, beta12_coord]\n",
    "plt.imshow(np.where(abs(beta12_corr)<abs(beta12_corr).max()/5, 0, beta12_corr), origin='lower')\n",
    "plt.yticks([2.5, 10, 22, 27.5, 33, 44.5, 54, 68, 73.5], ['CDR-H1', 'Beta-11', 'Beta-12', 'CDR-H2', 'Beta-13', 'Beta-21', 'Beta-22', 'Beta-14', 'CDR-H3']) \n",
    "plt.colorbar()\n",
    "plt.title('Beta-12')\n",
    "plt.show()"
   ]
  },
  {
   "cell_type": "code",
   "execution_count": null,
   "id": "c1a8ee2f",
   "metadata": {},
   "outputs": [],
   "source": [
    "cdr2_corr = cv2.resize(img, dsize=(76, 76))[:, cdr2_coord]\n",
    "plt.imshow(np.where(abs(cdr2_corr)<abs(cdr2_corr).max()/4, 0, cdr2_corr), origin='lower')\n",
    "plt.yticks([2.5, 10, 22, 27.5, 33, 44.5, 54, 68, 73.5], ['CDR-H1', 'Beta-11', 'Beta-12', 'CDR-H2', 'Beta-13', 'Beta-21', 'Beta-22', 'Beta-14', 'CDR-H3']) \n",
    "plt.colorbar()\n",
    "plt.title('CDR-H2')\n",
    "plt.show()"
   ]
  },
  {
   "cell_type": "code",
   "execution_count": null,
   "id": "45992761",
   "metadata": {},
   "outputs": [],
   "source": [
    "beta13_corr = cv2.resize(img, dsize=(76, 76))[:, beta13_coord]\n",
    "plt.imshow(np.where(abs(beta13_corr)<abs(beta13_corr).max()/6, 0, beta13_corr), origin='lower')\n",
    "plt.yticks([2.5, 10, 22, 27.5, 33, 44.5, 54, 68, 73.5], ['CDR-H1', 'Beta-11', 'Beta-12', 'CDR-H2', 'Beta-13', 'Beta-21', 'Beta-22', 'Beta-14', 'CDR-H3']) \n",
    "plt.colorbar()\n",
    "plt.title('Beta-13')\n",
    "plt.show()"
   ]
  },
  {
   "cell_type": "code",
   "execution_count": null,
   "id": "fc827a26",
   "metadata": {},
   "outputs": [],
   "source": [
    "beta21_corr = cv2.resize(img, dsize=(76, 76))[:, beta21_coord]\n",
    "plt.imshow(np.where(abs(beta21_corr)<abs(beta21_corr).max()/5, 0, beta21_corr), origin='lower')\n",
    "plt.yticks([2.5, 10, 22, 27.5, 33, 44.5, 54, 68, 73.5], ['CDR-H1', 'Beta-11', 'Beta-12', 'CDR-H2', 'Beta-13', 'Beta-21', 'Beta-22', 'Beta-14', 'CDR-H3']) \n",
    "plt.colorbar()\n",
    "plt.title('Beta-21')\n",
    "plt.show()"
   ]
  },
  {
   "cell_type": "code",
   "execution_count": null,
   "id": "aa6b25a3",
   "metadata": {},
   "outputs": [],
   "source": [
    "beta22_corr = cv2.resize(img, dsize=(76, 76))[:, beta22_coord]\n",
    "plt.imshow(np.where(abs(beta22_corr)<abs(beta22_corr).max()/4, 0, beta22_corr), origin='lower')\n",
    "plt.yticks([2.5, 10, 22, 27.5, 33, 44.5, 54, 68, 73.5], ['CDR-H1', 'Beta-11', 'Beta-12', 'CDR-H2', 'Beta-13', 'Beta-21', 'Beta-22', 'Beta-14', 'CDR-H3']) \n",
    "plt.colorbar()\n",
    "plt.title('Beta-22')\n",
    "plt.show()"
   ]
  },
  {
   "cell_type": "code",
   "execution_count": null,
   "id": "dcb441ec",
   "metadata": {},
   "outputs": [],
   "source": [
    "beta14_corr = cv2.resize(img, dsize=(76, 76))[:, beta14_coord]\n",
    "plt.imshow(np.where(abs(beta14_corr)<abs(beta14_corr).max()/5, 0, beta14_corr), origin='lower')\n",
    "plt.yticks([2.5, 10, 22, 27.5, 33, 44.5, 54, 68, 73.5], ['CDR-H1', 'Beta-11', 'Beta-12', 'CDR-H2', 'Beta-13', 'Beta-21', 'Beta-22', 'Beta-14', 'CDR-H3']) \n",
    "plt.colorbar()\n",
    "plt.title('Beta-14')\n",
    "plt.show()"
   ]
  },
  {
   "cell_type": "code",
   "execution_count": null,
   "id": "ee90c75f",
   "metadata": {},
   "outputs": [],
   "source": [
    "cdr3_corr = cv2.resize(img, dsize=(76, 76))[:, cdr3_coord]\n",
    "plt.imshow(np.where(abs(cdr3_corr)<abs(cdr3_corr).max()/30, 0, cdr3_corr), origin='lower')\n",
    "plt.yticks([2.5, 10, 22, 27.5, 33, 44.5, 54, 68, 73.5], ['CDR-H1', 'Beta-11', 'Beta-12', 'CDR-H2', 'Beta-13', 'Beta-21', 'Beta-22', 'Beta-14', 'CDR-H3']) \n",
    "plt.colorbar()\n",
    "plt.title('CDR-H3')\n",
    "plt.show()"
   ]
  },
  {
   "cell_type": "code",
   "execution_count": null,
   "id": "6a505a3f",
   "metadata": {},
   "outputs": [],
   "source": [
    "alpha_corr = cv2.resize(img, dsize=(76, 76))[:, alpha_coord]\n",
    "plt.imshow(np.where(abs(alpha_corr)<abs(alpha_corr).max()/3, 0, alpha_corr), origin='lower')\n",
    "plt.yticks([2.5, 10, 22, 27.5, 33, 44.5, 54, 68, 73.5], ['CDR-H1', 'Beta-11', 'Beta-12', 'CDR-H2', 'Beta-13', 'Beta-21', 'Beta-22', 'Beta-14', 'CDR-H3']) \n",
    "plt.colorbar()\n",
    "plt.title('Last alpha helix')\n",
    "plt.show()"
   ]
  },
  {
   "cell_type": "code",
   "execution_count": null,
   "id": "e7f91f0e",
   "metadata": {},
   "outputs": [],
   "source": [
    "# expanded version, total change: 13.85%\n",
    "cdr3_factor = -0.05 \n",
    "cdr1_factor = -0.05 \n",
    "cdr2_factor = 0.05 #\n",
    "beta11_factor = -0.05 \n",
    "beta12_factor = -0.05 \n",
    "beta13_factor = -0.05 #\n",
    "beta14_factor = 0.05 # \n",
    "beta21_factor = -0.05 \n",
    "beta22_factor = -0.05 # \n",
    "alpha_factor = -0.05 \n",
    "\n",
    "weights = np.array([cdr1_factor, beta11_factor, beta12_factor, cdr2_factor, beta13_factor, beta21_factor, beta22_factor, alpha_factor, beta14_factor, cdr3_factor])\n",
    "coord = np.array([cdr1_coord, beta11_coord, beta12_coord, cdr2_coord, beta13_coord, beta21_coord, beta22_coord, alpha_coord, beta14_coord, cdr3_coord])\n",
    "maps = [cdr1_corr, beta11_corr, beta12_corr, cdr2_corr, beta13_corr, beta21_corr, beta22_corr, alpha_corr, beta14_corr, cdr3_corr]\n",
    "\n",
    "ideal = np.load(download_path + '1t66.npy')[:76, :76].astype(np.float32) \n",
    "for i in range(len(weights)):\n",
    "    temp = np.pad(maps[i], ((0, 0), (coord[i][0], 76-coord[i][-1]-1)))\n",
    "    ideal += weights[i] * (temp + np.transpose(temp)) / 2  \n",
    "plt.imshow(ideal, origin='lower')\n",
    "plt.colorbar()"
   ]
  },
  {
   "cell_type": "code",
   "execution_count": null,
   "id": "e56aea95",
   "metadata": {},
   "outputs": [],
   "source": [
    "model.eval()\n",
    "new_prediction = 10**model(torch.from_numpy(cv2.resize(ideal, dsize=(80, 80)).reshape(1, 1, 80, 80).astype(np.float32))).detach().numpy()\n",
    "per_change = ((prediction - new_prediction) / prediction * 100)[0][0]\n",
    "print(new_prediction)\n",
    "print('Kd smaller by', per_change, '%')"
   ]
  },
  {
   "cell_type": "code",
   "execution_count": null,
   "id": "cc399fdc",
   "metadata": {},
   "outputs": [],
   "source": [
    "# Save Neural Network checkpoint\n",
    "#EPOCH = len(val_losses)\n",
    "#PATH = \"model.pt\"\n",
    "#LOSS = tr_loss\n",
    "\n",
    "#torch.save({\n",
    "#            'epoch': EPOCH,\n",
    "#            'model_state_dict': model.state_dict(),\n",
    "#            'optimizer_state_dict': optimizer.state_dict(),\n",
    "#            'loss': LOSS,\n",
    "#            }, PATH)"
   ]
  },
  {
   "cell_type": "code",
   "execution_count": null,
   "id": "63064582",
   "metadata": {},
   "outputs": [],
   "source": [
    "# Load Neural Network checkpoint\n",
    "\n",
    "#PATH = \"model.pt\"\n",
    "#model = MultiLabelNN()\n",
    "#optimizer = AdamW(model.parameters(), lr=4e-4)\n",
    "#checkpoint = torch.load(PATH)\n",
    "#model.load_state_dict(checkpoint['model_state_dict'])\n",
    "#optimizer.load_state_dict(checkpoint['optimizer_state_dict'])\n",
    "#epoch = checkpoint['epoch']\n",
    "#loss = checkpoint['loss']\n",
    "\n",
    "#model.eval()\n",
    "#10**model(test_sample).detach().numpy()\n",
    "# - or -\n",
    "#model.train()"
   ]
  },
  {
   "cell_type": "code",
   "execution_count": null,
   "id": "d47053bc",
   "metadata": {},
   "outputs": [],
   "source": [
    "# Save Neural Network visualization\n",
    "\n",
    "#x_val = Variable(val_x)\n",
    "#model = MultiLabelNN()\n",
    "#yhat = model(x_val)\n",
    "#make_dot(yhat, params=dict(list(model.named_parameters()))).render(\"attached\", format=\"png\")"
   ]
  },
  {
   "cell_type": "markdown",
   "id": "dc08e9e0",
   "metadata": {},
   "source": [
    "### "
   ]
  }
 ],
 "metadata": {
  "kernelspec": {
   "display_name": "Python 3 (ipykernel)",
   "language": "python",
   "name": "python3"
  },
  "language_info": {
   "codemirror_mode": {
    "name": "ipython",
    "version": 3
   },
   "file_extension": ".py",
   "mimetype": "text/x-python",
   "name": "python",
   "nbconvert_exporter": "python",
   "pygments_lexer": "ipython3",
   "version": "3.9.0"
  }
 },
 "nbformat": 4,
 "nbformat_minor": 5
}
